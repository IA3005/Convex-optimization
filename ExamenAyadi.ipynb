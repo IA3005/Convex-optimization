{
  "nbformat": 4,
  "nbformat_minor": 0,
  "metadata": {
    "colab": {
      "name": "ExamenAyadi.ipynb",
      "provenance": [],
      "collapsed_sections": []
    },
    "kernelspec": {
      "name": "python3",
      "display_name": "Python 3"
    }
  },
  "cells": [
    {
      "cell_type": "markdown",
      "metadata": {
        "id": "62tke6MC4n9C"
      },
      "source": [
        "#1 . Necessar imports"
      ]
    },
    {
      "cell_type": "code",
      "metadata": {
        "id": "fiRQYT54_I_9"
      },
      "source": [
        "import numpy as np\n",
        "import matplotlib.pyplot as plt\n",
        "import time"
      ],
      "execution_count": 1,
      "outputs": []
    },
    {
      "cell_type": "markdown",
      "metadata": {
        "id": "R1bOzooi4ttE"
      },
      "source": [
        "# 2 . Define the brarrier-logarithm objective of the dual  and its gradient and hessien"
      ]
    },
    {
      "cell_type": "code",
      "metadata": {
        "id": "6ClMK0MRnJFI"
      },
      "source": [
        "#objective with the barrier log\n",
        "def obj(Q,c,t,v):\n",
        "  return t*(0.5*v.T @ Q @ v - np.sum(v)) - np.sum(np.log(c - v)) - np.sum(np.log(v))\n",
        "  \n",
        "def grad(Q,c,t,v):\n",
        "  return t*(Q @v -1) + 1/(c-v) - 1/v\n",
        "\n",
        "def hess(Q,c,t,v):\n",
        "  return t*Q  + np.diag(1/((c-v)*(c-v)))+ np.diag(1/(v*v))"
      ],
      "execution_count": 2,
      "outputs": []
    },
    {
      "cell_type": "markdown",
      "metadata": {
        "id": "0BRwmhuS6C9s"
      },
      "source": [
        "# 3 . Centering step of the barrier method"
      ]
    },
    {
      "cell_type": "code",
      "metadata": {
        "id": "dYfwwsSvrYPO"
      },
      "source": [
        "def centering_step(Q,c,t,v0,eps,alpha=0.5,beta=0.9):\n",
        "\n",
        "  #saving v_i (evolution of v along iterations)in a list v_record\n",
        "  v_record=[v0]\n",
        "\n",
        "  v = v0\n",
        "  test = True\n",
        "  gradient = grad(Q,c,t,v)\n",
        "  hessien = hess(Q,c,t,v)\n",
        "  Z = np.linalg.solve(hessien,gradient)\n",
        "  decrement = gradient.T@Z\n",
        "  while decrement > 2*eps:\n",
        "    \n",
        "    #newton step\n",
        "    delta_v = -Z\n",
        "\n",
        "    #backtracking line search\n",
        "    minimum = np.inf\n",
        "    for i in range(len(v)):\n",
        "      if (delta_v[i]>0) and (minimum > (c-v[i])/delta_v[i]):\n",
        "        minimum = (c-v[i])/delta_v[i]\n",
        "      if (delta_v[i]<0) and (minimum > -v[i]/delta_v[i]):\n",
        "        minimum = -v[i]/delta_v[i]\n",
        "    h = min(1,0.99*minimum)\n",
        "    \n",
        "    while (np.all((v+h*delta_v) < c)) and (np.all((v+h*delta_v) >0 )) and (obj(Q,c,t,v+h*delta_v) >= obj(Q,c,t,v)- alpha*h*decrement) :\n",
        "      h = beta*h\n",
        "    \n",
        "    #update v\n",
        "    v = v + h*delta_v\n",
        "    v_record.append(v)\n",
        "\n",
        "    #update the newton decrement \n",
        "    gradient = grad(Q,c,t,v)\n",
        "    hessien = hess(Q,c,t,v)\n",
        "    Z = np.linalg.solve(hessien,gradient)\n",
        "    decrement = gradient.T@Z\n",
        "  \n",
        "  return v_record\n",
        "    "
      ],
      "execution_count": 3,
      "outputs": []
    },
    {
      "cell_type": "markdown",
      "metadata": {
        "id": "ydTLEqLu6QQN"
      },
      "source": [
        "# 4 . Barrier Method algorithm"
      ]
    },
    {
      "cell_type": "code",
      "metadata": {
        "id": "fGPCNyKSGFMb"
      },
      "source": [
        "def barr_method(Q,c,v0,mu,eps,alpha=0.5,beta =0.9):\n",
        "  # initialization\n",
        "  v_seq = [v0]\n",
        "  inner_iter= []\n",
        "  m = len(v0)\n",
        "  t = 1\n",
        "\n",
        "  while t <= m/eps:\n",
        "      v = centering_step(Q,c, t, v_seq[-1], eps=eps, alpha=alpha, beta=beta)[-1]\n",
        "      if inner_iter==[]:\n",
        "        inner_iter.append(len(v))\n",
        "      else: \n",
        "        inner_iter.append(len(v)+inner_iter[-1])\n",
        "      v_seq.append(v)\n",
        "      t *= mu\n",
        "\n",
        "  return v_seq,inner_iter"
      ],
      "execution_count": 78,
      "outputs": []
    },
    {
      "cell_type": "markdown",
      "metadata": {
        "id": "aVYpQmNY6Yzh"
      },
      "source": [
        "# 5 . Time for tests : exampe of a bivariate-distributed data"
      ]
    },
    {
      "cell_type": "code",
      "metadata": {
        "id": "YXo1QJNjtlIj"
      },
      "source": [
        "#generate random data and y\n",
        "\n",
        "n = 2\n",
        "m = 100\n",
        "\n",
        "\n",
        "#define the dual problem's parameter\n",
        "\n",
        "y = 2*np.random.randint(2,size=m)-np.ones(m) #labels\n",
        "\n",
        "mean1 = -2*np.ones(n)\n",
        "cov1 = 0.5*np.eye(n)\n",
        "\n",
        "mean2 = 2*np.ones(n)\n",
        "cov2 = np.eye(n)\n",
        "\n",
        "data = np.zeros((n,m))\n",
        "for i in range(m):\n",
        "  if i%2==0:\n",
        "    data[:,i] = np.random.multivariate_normal(mean1, cov1)\n",
        "  else:\n",
        "    data[:,i] = np.random.multivariate_normal(mean2, cov2)\n",
        "U = data@np.diag(y)\n",
        "Q =U.T@U\n",
        "\n"
      ],
      "execution_count": 5,
      "outputs": []
    },
    {
      "cell_type": "code",
      "metadata": {
        "colab": {
          "base_uri": "https://localhost:8080/",
          "height": 284
        },
        "id": "A7NN4l99NGGD",
        "outputId": "4563f955-ec9c-4dc6-b6db-33463570134c"
      },
      "source": [
        "if n ==2: \n",
        "  plt.scatter(data[0],data[1])\n",
        "  plt.title('Visualisation of the distribution of the data when $n=2$',fontsize=15)\n",
        "  plt.grid()"
      ],
      "execution_count": 25,
      "outputs": [
        {
          "output_type": "display_data",
          "data": {
            "image/png": "[encoded data removed]",
            "text/plain": [
              "<Figure size 432x288 with 1 Axes>"
            ]
          },
          "metadata": {
            "tags": [],
            "needs_background": "light"
          }
        }
      ]
    },
    {
      "cell_type": "markdown",
      "metadata": {
        "id": "M6JlqwPm6_DS"
      },
      "source": [
        "> **Remark :** I choose means and covariances of the two normal distributions that help us even visually distinfuish the two classes\n"
      ]
    },
    {
      "cell_type": "code",
      "metadata": {
        "id": "8qt7yLBmzOK2"
      },
      "source": [
        "def slack_comp(U,v,c):\n",
        "  z= np.zeros(v.shape)\n",
        "  for i in range(len(v)):\n",
        "    if abs(v[i] - c) < 1e-4:\n",
        "      z[i] = 1- (U.T@U@v)[i]\n",
        "  return z"
      ],
      "execution_count": 47,
      "outputs": []
    },
    {
      "cell_type": "code",
      "metadata": {
        "colab": {
          "base_uri": "https://localhost:8080/",
          "height": 516
        },
        "id": "iE0OTmcY7ep6",
        "outputId": "2c724a27-fc10-44ba-c19e-94420eaf2647"
      },
      "source": [
        "#Applying the barrier method\n",
        "\n",
        "c = 20\n",
        "\n",
        "#the dual solution\n",
        "v_seq = barr_method(Q,c,0.5*c*np.ones(m),mu,eps=1e-7,alpha=0.1,beta =0.7)[0]\n",
        "v_star = v_seq[-1]\n",
        "g_seq = [-0.5*v.T @ Q @ v + np.sum(v) for v in v_seq]\n",
        "g_star = g_seq[-1]\n",
        "\n",
        "#deduce the primal solution\n",
        "w_star = U@v_star\n",
        "z_star = slack_comp(U,v_star,c)\n",
        "\n",
        "#test strong duality:\n",
        "f_star = 0.5*w_star.T@w_star + c*np.sum(z_star)\n",
        "print(\"Gap between the dual and the primal : p* -d* = \",f_star - g_star )\n",
        "\n",
        "\n",
        "if n==2:\n",
        "    plt.figure(figsize=(10,8))\n",
        "    plt.scatter(data[0],data[1])\n",
        "    plt.plot([min(data[0]),max(data[0]) ], [w_star[0]*min(data[0]),w_star[1]*max(data[0])],c='red')\n",
        "    plt.grid()\n",
        "    plt.title(\"Soft Margin classification of bivariate data for C = \"+str(c))\n",
        "    plt.show()"
      ],
      "execution_count": 76,
      "outputs": [
        {
          "output_type": "stream",
          "text": [
            "Gap between the dual and the primal : p* -d* =  4.0792861000227276e-07\n"
          ],
          "name": "stdout"
        },
        {
          "output_type": "display_data",
          "data": {
            "image/png": "[encoded data removed]",
            "text/plain": [
              "<Figure size 720x576 with 1 Axes>"
            ]
          },
          "metadata": {
            "tags": [],
            "needs_background": "light"
          }
        }
      ]
    },
    {
      "cell_type": "markdown",
      "metadata": {
        "id": "H9VQe3dq__KN"
      },
      "source": [
        "> **Comment :** we notice that the $p^*- d^*  \\approx 4\\times 10^{-7}$ . In fact , this is compatible with the strong duality of the problem. Moreover , the classification is quiet good : the line (whoose equation is $y = w^T x$) is separating efficiently the two clusters."
      ]
    },
    {
      "cell_type": "markdown",
      "metadata": {
        "id": "iI1IxEeEA98J"
      },
      "source": [
        "# 5 . Impact of the regularisation term $C$ on the convergence"
      ]
    },
    {
      "cell_type": "code",
      "metadata": {
        "colab": {
          "base_uri": "https://localhost:8080/",
          "height": 520
        },
        "id": "nIdPlrgjubol",
        "outputId": "9162fca1-394f-4381-80b8-88a10d9dea55"
      },
      "source": [
        "c_values = [0.1,1,10,20,30]\n",
        "mu = 5\n",
        "times=[]\n",
        "results=[]\n",
        "iterations=[]\n",
        "\n",
        "for c in c_values:\n",
        "  t =time.time()\n",
        "  v_seq , inner_iter = barr_method(Q,c,0.5*c*np.ones(m),mu,eps=1e-7,alpha=0.1,beta =0.7)\n",
        "  iterations.append(inner_iter)\n",
        "  t = time.time() -t\n",
        "  results.append(v_seq)\n",
        "  times.append(t)\n",
        "\n",
        "\n",
        "g_values = [[-0.5*v.T @ Q @ v + np.sum(v) for v in results[i]] for i in range(len(results))]\n",
        "g_star = -np.infty\n",
        "v_star = None\n",
        "index_min =0\n",
        "for i in range(len(results)):\n",
        "    for g in g_values[i]:\n",
        "        if g_star < g:\n",
        "            g_star = g\n",
        "            v_star = results[i][-1]\n",
        "            index_max = i\n",
        "\n",
        "#deduce the primal solution\n",
        "w_star = U@v_star\n",
        "z_star = slack_comp(U,v_star,c_values[index_max])\n",
        "f_values=[[0.5*v.T@U.T@U@v +c_values[i]*np.sum(slack_comp(U,v,c_values[i])) for v in results[i]] for i in range(len(results))]\n",
        "\n",
        "#plots\n",
        "plt.figure(figsize=(15,8))\n",
        "plt.xlabel('Inner Iteration t',fontsize = 15)\n",
        "plt.ylabel('$g^* - g(v_t) $',fontsize=15)\n",
        "plt.yscale('symlog')\n",
        "plt.title('Impact of C on the convergence speed and the gap (for the dual problem)',fontsize=16)\n",
        "for i in range(len(results)):\n",
        "    plt.step(iterations[i], g_star - g_values[i][1:],where=\"post\",label='C= {}'.format(c_values[i])+' //running time = {}'.format(round(times[i],2))+'s')\n",
        "plt.legend(loc=\"upper right\")\n",
        "plt.show()\n"
      ],
      "execution_count": 91,
      "outputs": [
        {
          "output_type": "display_data",
          "data": {
            "image/png": "[encoded data removed]",
            "text/plain": [
              "<Figure size 1080x576 with 1 Axes>"
            ]
          },
          "metadata": {
            "tags": [],
            "needs_background": "light"
          }
        }
      ]
    },
    {
      "cell_type": "markdown",
      "metadata": {
        "id": "vax-pTCrhs-z"
      },
      "source": [
        "**Comments:**\n",
        "\n",
        "> 1. $C$ allows the control of the trade-off between the number of misclassified points and the width of the margin. A good tuning of C may requires  exhaustive search (we can use  cross-validation) \n",
        "\n",
        "> 2. Horizontal steps represents the centering step: they are the inner iterations. Meanwile, the vertical segments are induced by the barrier iterations (once the centered point is derived): they are the outer iterations. When we have a 'long' horizontal segment, this means that the centering step required a lot of iterations and actually. We notice that the inner iterations do not depend on $C$ : the centering step requires the same number of executions even when $C$ changes.\n",
        "\n",
        "> 3. When $C$ is too small, we remain 'far from' the best value $g^*$. When  $C$ increases, the gap decreases but if $C$ exceeds a certain value, the algorithm doesn't seem to converge (I tried for example C=1000 and I stopped its running after a few minutes)\n",
        "\n"
      ]
    }
  ]
}